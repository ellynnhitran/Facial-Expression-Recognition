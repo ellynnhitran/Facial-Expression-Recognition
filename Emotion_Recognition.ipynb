{
  "nbformat": 4,
  "nbformat_minor": 0,
  "metadata": {
    "colab": {
      "name": "Emotion Recognition",
      "provenance": [],
      "collapsed_sections": [],
      "mount_file_id": "1oupxfu4o4gPFMLHjR40tgtnofJgtyoOa",
      "authorship_tag": "ABX9TyOeA7lQpNUZDQ0YRm2aZzP1",
      "include_colab_link": true
    },
    "kernelspec": {
      "name": "python3",
      "display_name": "Python 3"
    },
    "accelerator": "GPU"
  },
  "cells": [
    {
      "cell_type": "markdown",
      "metadata": {
        "id": "view-in-github",
        "colab_type": "text"
      },
      "source": [
        "<a href=\"https://colab.research.google.com/github/ellynnhitran/Facial-Expression-Recognition/blob/master/Emotion_Recognition.ipynb\" target=\"_parent\"><img src=\"https://colab.research.google.com/assets/colab-badge.svg\" alt=\"Open In Colab\"/></a>"
      ]
    },
    {
      "cell_type": "code",
      "metadata": {
        "id": "G0LZEWcxeAIN",
        "colab_type": "code",
        "colab": {
          "base_uri": "https://localhost:8080/",
          "height": 54
        },
        "outputId": "3ccf133f-cb36-402b-e070-a540939b63f0"
      },
      "source": [
        "from google.colab import drive\n",
        "drive.mount('/content/drive/')"
      ],
      "execution_count": 3,
      "outputs": [
        {
          "output_type": "stream",
          "text": [
            "Drive already mounted at /content/drive/; to attempt to forcibly remount, call drive.mount(\"/content/drive/\", force_remount=True).\n"
          ],
          "name": "stdout"
        }
      ]
    },
    {
      "cell_type": "code",
      "metadata": {
        "id": "StDbffVIePpU",
        "colab_type": "code",
        "colab": {}
      },
      "source": [
        "!pip install -q keras"
      ],
      "execution_count": 0,
      "outputs": []
    },
    {
      "cell_type": "code",
      "metadata": {
        "id": "0hS77rjAeSkn",
        "colab_type": "code",
        "colab": {
          "base_uri": "https://localhost:8080/",
          "height": 34
        },
        "outputId": "75c4d80a-f72f-438a-e27c-159af4a0f4ba"
      },
      "source": [
        "import keras"
      ],
      "execution_count": 5,
      "outputs": [
        {
          "output_type": "stream",
          "text": [
            "Using TensorFlow backend.\n"
          ],
          "name": "stderr"
        }
      ]
    },
    {
      "cell_type": "code",
      "metadata": {
        "id": "UnjhDzZSehUu",
        "colab_type": "code",
        "colab": {}
      },
      "source": [
        "import tensorflow as tf\n",
        "\n",
        "import tensorflow.keras\n",
        "from tensorflow.keras.models import Sequential\n",
        "from tensorflow.keras.layers import Conv2D, MaxPooling2D, AveragePooling2D\n",
        "from tensorflow.keras.layers import Dense, Activation, Dropout, Flatten\n",
        "\n",
        "from tensorflow.keras.preprocessing import image\n",
        "from tensorflow.keras.preprocessing.image import ImageDataGenerator\n",
        "\n",
        "import numpy as np\n",
        "import matplotlib.pyplot as plt\n"
      ],
      "execution_count": 0,
      "outputs": []
    },
    {
      "cell_type": "code",
      "metadata": {
        "id": "KdCbrolefAWO",
        "colab_type": "code",
        "colab": {}
      },
      "source": [
        "#------------------------------\n",
        "#variables\n",
        "num_classes = 7 #angry, disgust, fear, happy, sad, surprise, neutral\n",
        "batch_size = 256\n",
        "epochs = 5"
      ],
      "execution_count": 0,
      "outputs": []
    },
    {
      "cell_type": "code",
      "metadata": {
        "id": "8h5mqT9dfDfT",
        "colab_type": "code",
        "colab": {
          "base_uri": "https://localhost:8080/",
          "height": 51
        },
        "outputId": "fe853f6c-7bad-4e5b-8d69-a36ce902be95"
      },
      "source": [
        "#------------------------------\n",
        "#read kaggle facial expression recognition challenge dataset (fer2013.csv)\n",
        "#https://www.kaggle.com/c/challenges-in-representation-learning-facial-expression-recognition-challenge\n",
        "\n",
        "with open(\"/content/drive/My Drive/Projects/emotion recognition /dataset/fer2013.csv\") as f:\n",
        "    content = f.readlines()\n",
        "\n",
        "lines = np.array(content)\n",
        "\n",
        "num_of_instances = lines.size\n",
        "print(\"number of instances: \",num_of_instances)\n",
        "print(\"instance length: \",len(lines[1].split(\",\")[1].split(\" \")))"
      ],
      "execution_count": 8,
      "outputs": [
        {
          "output_type": "stream",
          "text": [
            "number of instances:  35888\n",
            "instance length:  2304\n"
          ],
          "name": "stdout"
        }
      ]
    },
    {
      "cell_type": "code",
      "metadata": {
        "id": "3YHb4iPLfQjQ",
        "colab_type": "code",
        "colab": {}
      },
      "source": [
        "#------------------------------\n",
        "#initialize trainset and test set\n",
        "x_train, y_train, x_test, y_test = [], [], [], []"
      ],
      "execution_count": 0,
      "outputs": []
    },
    {
      "cell_type": "code",
      "metadata": {
        "id": "VPXk7IORfTpf",
        "colab_type": "code",
        "colab": {}
      },
      "source": [
        "#------------------------------\n",
        "#transfer train and test set data\n",
        "for i in range(1,num_of_instances):\n",
        " try:\n",
        "  emotion, img, usage = lines[i].split(\",\")\n",
        "\n",
        "  val = img.split(\" \")\n",
        "\n",
        "  pixels = np.array(val, 'float32')\n",
        "\n",
        "  emotion = tensorflow.keras.utils.to_categorical(emotion, num_classes)\n",
        "\n",
        "  if 'Training' in usage:\n",
        "   y_train.append(emotion)\n",
        "   x_train.append(pixels)\n",
        "  elif 'PublicTest' in usage:\n",
        "   y_test.append(emotion)\n",
        "   x_test.append(pixels)\n",
        " except:\n",
        "  print(\"\",end=\"\")"
      ],
      "execution_count": 0,
      "outputs": []
    },
    {
      "cell_type": "code",
      "metadata": {
        "id": "rH4bQm9-fZCN",
        "colab_type": "code",
        "colab": {
          "base_uri": "https://localhost:8080/",
          "height": 51
        },
        "outputId": "41791979-1d2b-46cf-bd73-dd1038d5ca8b"
      },
      "source": [
        "#------------------------------\n",
        "#data transformation for train and test sets\n",
        "x_train = np.array(x_train, 'float32')\n",
        "y_train = np.array(y_train, 'float32')\n",
        "x_test = np.array(x_test, 'float32')\n",
        "y_test = np.array(y_test, 'float32')\n",
        "\n",
        "x_train /= 255 #normalize inputs between [0, 1]\n",
        "x_test /= 255\n",
        "\n",
        "x_train = x_train.reshape(x_train.shape[0], 48, 48, 1)\n",
        "x_train = x_train.astype('float32')\n",
        "x_test = x_test.reshape(x_test.shape[0], 48, 48, 1)\n",
        "x_test = x_test.astype('float32')\n",
        "\n",
        "print(x_train.shape[0], 'train samples')\n",
        "print(x_test.shape[0], 'test samples')"
      ],
      "execution_count": 11,
      "outputs": [
        {
          "output_type": "stream",
          "text": [
            "28709 train samples\n",
            "3589 test samples\n"
          ],
          "name": "stdout"
        }
      ]
    },
    {
      "cell_type": "code",
      "metadata": {
        "id": "x5llqMmMfdhG",
        "colab_type": "code",
        "colab": {}
      },
      "source": [
        "#------------------------------\n",
        "#construct CNN structure\n",
        "model = Sequential()\n",
        "\n",
        "#1st convolution layer\n",
        "model.add(Conv2D(64, (5, 5), activation='relu', input_shape=(48,48,1)))\n",
        "model.add(MaxPooling2D(pool_size=(5,5), strides=(2, 2)))\n",
        "\n",
        "#2nd convolution layer\n",
        "model.add(Conv2D(64, (3, 3), activation='relu'))\n",
        "model.add(Conv2D(64, (3, 3), activation='relu'))\n",
        "model.add(AveragePooling2D(pool_size=(3,3), strides=(2, 2)))\n",
        "\n",
        "#3rd convolution layer\n",
        "model.add(Conv2D(128, (3, 3), activation='relu'))\n",
        "model.add(Conv2D(128, (3, 3), activation='relu'))\n",
        "model.add(AveragePooling2D(pool_size=(3,3), strides=(2, 2)))\n",
        "\n",
        "model.add(Flatten())\n",
        "\n",
        "#fully connected neural networks\n",
        "model.add(Dense(1024, activation='relu'))\n",
        "model.add(Dropout(0.2))\n",
        "model.add(Dense(1024, activation='relu'))\n",
        "model.add(Dropout(0.2))\n",
        "\n",
        "model.add(Dense(num_classes, activation='softmax'))"
      ],
      "execution_count": 0,
      "outputs": []
    },
    {
      "cell_type": "code",
      "metadata": {
        "id": "zMZvgMCrfhbS",
        "colab_type": "code",
        "colab": {}
      },
      "source": [
        "#------------------------------\n",
        "#batch process\n",
        "gen = ImageDataGenerator()\n",
        "train_generator = gen.flow(x_train, y_train, batch_size=batch_size)"
      ],
      "execution_count": 0,
      "outputs": []
    },
    {
      "cell_type": "code",
      "metadata": {
        "id": "P8ihe4MffkrW",
        "colab_type": "code",
        "colab": {}
      },
      "source": [
        "#------------------------------\n",
        "\n",
        "model.compile(loss='categorical_crossentropy'\n",
        "    , optimizer=tensorflow.keras.optimizers.Adam()\n",
        "    , metrics=['accuracy']\n",
        ")\n"
      ],
      "execution_count": 0,
      "outputs": []
    },
    {
      "cell_type": "code",
      "metadata": {
        "id": "xzL8GXudfl0N",
        "colab_type": "code",
        "colab": {
          "base_uri": "https://localhost:8080/",
          "height": 258
        },
        "outputId": "0889ca39-7158-4667-f4e0-929792ade683"
      },
      "source": [
        "#------------------------------\n",
        "\n",
        "fit = True\n",
        "\n",
        "if fit == True:\n",
        "\t#model.fit_generator(x_train, y_train, epochs=epochs) #train for all trainset\n",
        " model.fit_generator(train_generator, steps_per_epoch=batch_size, epochs=epochs) #train for randomly selected one\n",
        "else:\n",
        " model.load_weights('/content/drive/My Drive/Projects/emotion recognition /model/facial_expression_model_weights.h5') #load weights"
      ],
      "execution_count": 15,
      "outputs": [
        {
          "output_type": "stream",
          "text": [
            "WARNING:tensorflow:From <ipython-input-15-1b44a2c8a9e4>:6: Model.fit_generator (from tensorflow.python.keras.engine.training) is deprecated and will be removed in a future version.\n",
            "Instructions for updating:\n",
            "Please use Model.fit, which supports generators.\n",
            "Epoch 1/5\n",
            "256/256 [==============================] - 5s 19ms/step - loss: 1.7850 - accuracy: 0.2599\n",
            "Epoch 2/5\n",
            "256/256 [==============================] - 5s 18ms/step - loss: 1.5510 - accuracy: 0.3870\n",
            "Epoch 3/5\n",
            "256/256 [==============================] - 5s 18ms/step - loss: 1.3690 - accuracy: 0.4729\n",
            "Epoch 4/5\n",
            "256/256 [==============================] - 5s 18ms/step - loss: 1.2507 - accuracy: 0.5218\n",
            "Epoch 5/5\n",
            "256/256 [==============================] - 5s 18ms/step - loss: 1.1693 - accuracy: 0.5575\n"
          ],
          "name": "stdout"
        }
      ]
    },
    {
      "cell_type": "code",
      "metadata": {
        "id": "Zg57aXO7f-Ab",
        "colab_type": "code",
        "colab": {
          "base_uri": "https://localhost:8080/",
          "height": 68
        },
        "outputId": "32ead3fe-5616-47dc-8371-73a70216e31f"
      },
      "source": [
        "score = model.evaluate(x_test, y_test)\n",
        "print('Test loss:', score[0])\n",
        "print('Test accuracy:', 100*score[1])"
      ],
      "execution_count": 16,
      "outputs": [
        {
          "output_type": "stream",
          "text": [
            "113/113 [==============================] - 0s 4ms/step - loss: 1.2144 - accuracy: 0.5366\n",
            "Test loss: 1.2143974304199219\n",
            "Test accuracy: 53.66397500038147\n"
          ],
          "name": "stdout"
        }
      ]
    },
    {
      "cell_type": "code",
      "metadata": {
        "id": "d7kFrBCfgZcd",
        "colab_type": "code",
        "colab": {}
      },
      "source": [
        "def emotion_analysis(emotions):\n",
        "  objects = ('angry', 'disgust', 'fear', 'happy', 'sad', 'surprise', 'neutral')\n",
        "  y_pos = np.arange(len(objects))\n",
        "  \n",
        "  plt.bar(y_pos, emotions, align='center', alpha=0.5)\n",
        "  plt.xticks(y_pos, objects)\n",
        "  plt.ylabel('percentage')\n",
        "  plt.title('emotion')\n",
        "  \n",
        "  plt.show()"
      ],
      "execution_count": 0,
      "outputs": []
    },
    {
      "cell_type": "code",
      "metadata": {
        "id": "bE3oa9srhDZ4",
        "colab_type": "code",
        "colab": {}
      },
      "source": [
        "monitor_testset_results = False\n",
        "\n",
        "if monitor_testset_results == True:\n",
        "\t#make predictions for test set\n",
        "\tpredictions = model.predict(x_test)\n",
        "\n",
        "\tindex = 0\n",
        "\tfor i in predictions:\n",
        "\t\tif index < 30 and index >= 20:\n",
        "\t\t\t#print(i) #predicted scores\n",
        "\t\t\t#print(y_test[index]) #actual scores\n",
        "\t\t\t\n",
        "\t\t\ttesting_img = np.array(x_test[index], 'float32')\n",
        "\t\t\ttesting_img = testing_img.reshape([48, 48]);\n",
        "\t\t\t\n",
        "\t\t\tplt.gray()\n",
        "\t\t\tplt.imshow(testing_img)\n",
        "\t\t\tplt.show()\n",
        "\t\t\t\n",
        "\t\t\tprint(i)\n",
        "\t\t\t\n",
        "\t\t\temotion_analysis(i)\n",
        "\t\t\tprint(\"----------------------------------------------\")\n",
        "\t\tindex = index + 1"
      ],
      "execution_count": 0,
      "outputs": []
    },
    {
      "cell_type": "code",
      "metadata": {
        "id": "O5eYnnDsEU74",
        "colab_type": "code",
        "colab": {
          "base_uri": "https://localhost:8080/",
          "height": 585
        },
        "outputId": "067917cd-7618-400f-c107-9b65b259d360"
      },
      "source": [
        "#make prediction for custom image out of test set\n",
        "\n",
        "img = image.load_img(\"/content/drive/My Drive/Projects/emotion recognition /dataset/mark zukerberg test.jpg\", grayscale=True, target_size=(48, 48))\n",
        "\n",
        "x = image.img_to_array(img)\n",
        "x = np.expand_dims(x, axis = 0)\n",
        "\n",
        "x /= 255\n",
        "\n",
        "custom = model.predict(x)\n",
        "emotion_analysis(custom[0])\n",
        "\n",
        "x = np.array(x, 'float32')\n",
        "x = x.reshape([48, 48]);\n",
        "\n",
        "plt.gray()\n",
        "plt.imshow(x)\n",
        "plt.show()"
      ],
      "execution_count": 25,
      "outputs": [
        {
          "output_type": "stream",
          "text": [
            "/usr/local/lib/python3.6/dist-packages/keras_preprocessing/image/utils.py:104: UserWarning: grayscale is deprecated. Please use color_mode = \"grayscale\"\n",
            "  warnings.warn('grayscale is deprecated. Please use '\n"
          ],
          "name": "stderr"
        },
        {
          "output_type": "display_data",
          "data": {
            "image/png": "[encoded data removed]",
            "text/plain": [
              "<Figure size 432x288 with 1 Axes>"
            ]
          },
          "metadata": {
            "tags": []
          }
        },
        {
          "output_type": "display_data",
          "data": {
            "image/png": "[encoded data removed]",
            "text/plain": [
              "<Figure size 432x288 with 1 Axes>"
            ]
          },
          "metadata": {
            "tags": []
          }
        }
      ]
    }
  ]
}