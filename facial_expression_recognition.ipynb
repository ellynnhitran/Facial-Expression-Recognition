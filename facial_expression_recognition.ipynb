{
  "nbformat": 4,
  "nbformat_minor": 0,
  "metadata": {
    "colab": {
      "name": "facial expression recognition",
      "provenance": [],
      "mount_file_id": "1MM2vnXhMls8YvtORDwDHiuPsGUlDmfKy",
      "authorship_tag": "ABX9TyNuwHxoKDcaytq4lrSkqrw9",
      "include_colab_link": true
    },
    "kernelspec": {
      "name": "python3",
      "display_name": "Python 3"
    },
    "accelerator": "GPU"
  },
  "cells": [
    {
      "cell_type": "markdown",
      "metadata": {
        "id": "view-in-github",
        "colab_type": "text"
      },
      "source": [
        "<a href=\"https://colab.research.google.com/github/ellyntran/Facial-Expression-Recognition/blob/master/facial_expression_recognition.ipynb\" target=\"_parent\"><img src=\"https://colab.research.google.com/assets/colab-badge.svg\" alt=\"Open In Colab\"/></a>"
      ]
    },
    {
      "cell_type": "code",
      "metadata": {
        "id": "Wx16pzgpoZin",
        "colab_type": "code",
        "outputId": "5de72981-aab8-4345-fdaa-1c2be6a3b263",
        "colab": {
          "base_uri": "https://localhost:8080/",
          "height": 122
        }
      },
      "source": [
        "from google.colab import drive\n",
        "drive.mount('/content/gdrive')"
      ],
      "execution_count": 0,
      "outputs": [
        {
          "output_type": "stream",
          "text": [
            "Go to this URL in a browser: https://accounts.google.com/o/oauth2/auth?client_id=947318989803-6bn6qk8qdgf4n4g3pfee6491hc0brc4i.apps.googleusercontent.com&redirect_uri=urn%3aietf%3awg%3aoauth%3a2.0%3aoob&response_type=code&scope=email%20https%3a%2f%2fwww.googleapis.com%2fauth%2fdocs.test%20https%3a%2f%2fwww.googleapis.com%2fauth%2fdrive%20https%3a%2f%2fwww.googleapis.com%2fauth%2fdrive.photos.readonly%20https%3a%2f%2fwww.googleapis.com%2fauth%2fpeopleapi.readonly\n",
            "\n",
            "Enter your authorization code:\n",
            "··········\n",
            "Mounted at /content/gdrive\n"
          ],
          "name": "stdout"
        }
      ]
    },
    {
      "cell_type": "code",
      "metadata": {
        "id": "xg47WZDm4-gD",
        "colab_type": "code",
        "outputId": "410bcf22-aa3d-4635-f41c-b9b45bdcfb2e",
        "colab": {
          "base_uri": "https://localhost:8080/",
          "height": 80
        }
      },
      "source": [
        "import tensorflow as tf\n",
        "\n",
        "import keras\n",
        "from keras.models import Sequential\n",
        "from keras.layers import Conv2D, MaxPooling2D, AveragePooling2D\n",
        "from keras.layers import Dense, Activation, Dropout, Flatten\n",
        "\n",
        "from keras.preprocessing import image\n",
        "from keras.preprocessing.image import ImageDataGenerator\n",
        "\n",
        "import numpy as np\n",
        "import matplotlib.pyplot as plt\n"
      ],
      "execution_count": 0,
      "outputs": [
        {
          "output_type": "display_data",
          "data": {
            "text/html": [
              "<p style=\"color: red;\">\n",
              "The default version of TensorFlow in Colab will soon switch to TensorFlow 2.x.<br>\n",
              "We recommend you <a href=\"https://www.tensorflow.org/guide/migrate\" target=\"_blank\">upgrade</a> now \n",
              "or ensure your notebook will continue to use TensorFlow 1.x via the <code>%tensorflow_version 1.x</code> magic:\n",
              "<a href=\"https://colab.research.google.com/notebooks/tensorflow_version.ipynb\" target=\"_blank\">more info</a>.</p>\n"
            ],
            "text/plain": [
              "<IPython.core.display.HTML object>"
            ]
          },
          "metadata": {
            "tags": []
          }
        },
        {
          "output_type": "stream",
          "text": [
            "Using TensorFlow backend.\n"
          ],
          "name": "stderr"
        }
      ]
    },
    {
      "cell_type": "code",
      "metadata": {
        "id": "0Tiw6ftS5aHy",
        "colab_type": "code",
        "colab": {}
      },
      "source": [
        "#cpu - gpu configuration\n",
        "config = tf.ConfigProto( device_count = {'GPU': 0 , 'CPU': 56} ) #max: 1 gpu, 56 cpu\n",
        "sess = tf.Session(config=config) \n",
        "keras.backend.set_session(sess)"
      ],
      "execution_count": 0,
      "outputs": []
    },
    {
      "cell_type": "code",
      "metadata": {
        "id": "LTclHmpq5kJj",
        "colab_type": "code",
        "colab": {}
      },
      "source": [
        "#variables\n",
        "num_classes = 7 #angry, disgust, fear, happy, sad, surprise, neutral\n",
        "batch_size = 256\n",
        "epochs = 5"
      ],
      "execution_count": 0,
      "outputs": []
    },
    {
      "cell_type": "code",
      "metadata": {
        "id": "5Tb-elOY8CLO",
        "colab_type": "code",
        "outputId": "02dd636c-6756-43d2-ceaf-4250bdddd997",
        "colab": {
          "base_uri": "https://localhost:8080/",
          "height": 51
        }
      },
      "source": [
        "#read kaggle facial expression recognition challenge dataset (fer2013.csv)\n",
        "#https://www.kaggle.com/c/challenges-in-representation-learning-facial-expression-recognition-challenge\n",
        "\n",
        "with open(\"/fer2013.csv\") as f:\n",
        "    content = f.readlines()\n",
        "\n",
        "lines = np.array(content)\n",
        "\n",
        "num_of_instances = lines.size\n",
        "print(\"number of instances: \",num_of_instances)\n",
        "print(\"instance length: \",len(lines[1].split(\",\")[1].split(\" \")))\n"
      ],
      "execution_count": 0,
      "outputs": [
        {
          "output_type": "stream",
          "text": [
            "number of instances:  997\n",
            "instance length:  2304\n"
          ],
          "name": "stdout"
        }
      ]
    },
    {
      "cell_type": "code",
      "metadata": {
        "id": "bqMCUUkg8coR",
        "colab_type": "code",
        "colab": {}
      },
      "source": [
        "#------------------------------\n",
        "#initialize trainset and test set\n",
        "x_train, y_train, x_test, y_test = [], [], [], []\n"
      ],
      "execution_count": 0,
      "outputs": []
    },
    {
      "cell_type": "code",
      "metadata": {
        "id": "ARuKysIJ8gvh",
        "colab_type": "code",
        "outputId": "4f99c1b9-52d6-40f2-b651-531682cc6c40",
        "colab": {
          "base_uri": "https://localhost:8080/",
          "height": 34
        }
      },
      "source": [
        "#------------------------------\n",
        "#transfer train and test set data\n",
        "for i in range(1,num_of_instances):\n",
        "    try:\n",
        "        emotion, img, usage = lines[i].split(\",\")\n",
        "          \n",
        "        val = img.split(\" \")\n",
        "            \n",
        "        pixels = np.array(val, 'float32')\n",
        "        \n",
        "        emotion = keras.utils.to_categorical(emotion, num_classes)\n",
        "    \n",
        "        if 'Training' in usage:\n",
        "            y_train.append(emotion)\n",
        "            x_train.append(pixels)\n",
        "        elif 'PublicTest' in usage:\n",
        "            y_test.append(emotion)\n",
        "            x_test.append(pixels)\n",
        "    except:\n",
        "\t      print(\"\",end=\" \")"
      ],
      "execution_count": 0,
      "outputs": [
        {
          "output_type": "stream",
          "text": [
            " "
          ],
          "name": "stdout"
        }
      ]
    },
    {
      "cell_type": "code",
      "metadata": {
        "id": "CwKD7Z2p86To",
        "colab_type": "code",
        "outputId": "4feb365e-5216-4d61-f2c5-7d36880c0c3b",
        "colab": {
          "base_uri": "https://localhost:8080/",
          "height": 51
        }
      },
      "source": [
        "#------------------------------\n",
        "#data transformation for train and test sets\n",
        "x_train = np.array(x_train, 'float32')\n",
        "y_train = np.array(y_train, 'float32')\n",
        "x_test = np.array(x_test, 'float32')\n",
        "y_test = np.array(y_test, 'float32')\n",
        "\n",
        "x_train /= 255 #normalize inputs between [0, 1]\n",
        "x_test /= 255\n",
        "\n",
        "x_train = x_train.reshape(x_train.shape[0], 48, 48, 1)\n",
        "x_train = x_train.astype('float32')\n",
        "x_test = x_test.reshape(x_test.shape[0], 48, 48, 1)\n",
        "x_test = x_test.astype('float32')\n",
        "\n",
        "print(x_train.shape[0], 'train samples')\n",
        "print(x_test.shape[0], 'test samples')"
      ],
      "execution_count": 0,
      "outputs": [
        {
          "output_type": "stream",
          "text": [
            "995 train samples\n",
            "0 test samples\n"
          ],
          "name": "stdout"
        }
      ]
    },
    {
      "cell_type": "code",
      "metadata": {
        "id": "ysO3FGbw8-jw",
        "colab_type": "code",
        "colab": {}
      },
      "source": [
        "#----------------------------\n",
        "model = Sequential()\n",
        " \n",
        "#1st convolution layer\n",
        "model.add(Conv2D(64, (5, 5), activation='relu', input_shape=(48,48,1)))\n",
        "model.add(MaxPooling2D(pool_size=(5,5), strides=(2, 2)))\n",
        " \n",
        "#2nd convolution layer\n",
        "model.add(Conv2D(64, (3, 3), activation='relu'))\n",
        "model.add(Conv2D(64, (3, 3), activation='relu'))\n",
        "model.add(AveragePooling2D(pool_size=(3,3), strides=(2, 2)))\n",
        " \n",
        "#3rd convolution layer\n",
        "model.add(Conv2D(128, (3, 3), activation='relu'))\n",
        "model.add(Conv2D(128, (3, 3), activation='relu'))\n",
        "model.add(AveragePooling2D(pool_size=(3,3), strides=(2, 2)))\n",
        " \n",
        "model.add(Flatten())\n",
        " \n",
        "#fully connected neural networks\n",
        "model.add(Dense(1024, activation='relu'))\n",
        "model.add(Dropout(rate=0.2))\n",
        "model.add(Dense(1024, activation='relu'))\n",
        "model.add(Dropout(rate=0.2))\n",
        " \n",
        "model.add(Dense(num_classes, activation='softmax'))\n"
      ],
      "execution_count": 0,
      "outputs": []
    },
    {
      "cell_type": "code",
      "metadata": {
        "id": "hnHgFK3j-B8m",
        "colab_type": "code",
        "colab": {}
      },
      "source": [
        "#------------------------------\n",
        "#batch process\n",
        "gen = ImageDataGenerator()\n",
        "train_generator = gen.flow(x_train, y_train, batch_size=batch_size)"
      ],
      "execution_count": 0,
      "outputs": []
    },
    {
      "cell_type": "code",
      "metadata": {
        "id": "7CyEURFM-Djy",
        "colab_type": "code",
        "colab": {}
      },
      "source": [
        "#------------------------------\n",
        "\n",
        "model.compile(loss='categorical_crossentropy'\n",
        "    , optimizer=keras.optimizers.Adam()\n",
        "    , metrics=['accuracy']\n",
        ")\n"
      ],
      "execution_count": 0,
      "outputs": []
    },
    {
      "cell_type": "code",
      "metadata": {
        "id": "mpZ8UNpq-HFQ",
        "colab_type": "code",
        "outputId": "097eaebf-49b4-47db-d935-a5a1b9875cc1",
        "colab": {
          "base_uri": "https://localhost:8080/",
          "height": 187
        }
      },
      "source": [
        "#------------------------------\n",
        "\n",
        "fit = True\n",
        "\n",
        "if fit == True:\n",
        "\t#model.fit_generator(x_train, y_train, epochs=epochs) #train for all trainset\n",
        "\tmodel.fit_generator(train_generator, steps_per_epoch=batch_size, epochs=epochs) #train for randomly selected one\n",
        "else:\n",
        "\tmodel.load_weights('/data/facial_expression_model_weights.h5') #load weights\n",
        "\t"
      ],
      "execution_count": 0,
      "outputs": [
        {
          "output_type": "stream",
          "text": [
            "Epoch 1/5\n",
            "256/256 [==============================] - 343s 1s/step - loss: 1.5909 - acc: 0.3457\n",
            "Epoch 2/5\n",
            "256/256 [==============================] - 346s 1s/step - loss: 0.3732 - acc: 0.8644\n",
            "Epoch 3/5\n",
            "256/256 [==============================] - 345s 1s/step - loss: 0.0566 - acc: 0.9836\n",
            "Epoch 4/5\n",
            "256/256 [==============================] - 344s 1s/step - loss: 0.0638 - acc: 0.9826\n",
            "Epoch 5/5\n",
            "256/256 [==============================] - 344s 1s/step - loss: 0.0317 - acc: 0.9908\n"
          ],
          "name": "stdout"
        }
      ]
    },
    {
      "cell_type": "code",
      "metadata": {
        "id": "998odaUrr4jP",
        "colab_type": "code",
        "colab": {}
      },
      "source": [
        ""
      ],
      "execution_count": 0,
      "outputs": []
    }
  ]
}